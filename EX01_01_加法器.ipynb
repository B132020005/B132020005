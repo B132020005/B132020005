{
  "nbformat": 4,
  "nbformat_minor": 0,
  "metadata": {
    "colab": {
      "provenance": [],
      "authorship_tag": "ABX9TyNlNXGchg5Y5wAs6dfLednI",
      "include_colab_link": true
    },
    "kernelspec": {
      "name": "python3",
      "display_name": "Python 3"
    },
    "language_info": {
      "name": "python"
    }
  },
  "cells": [
    {
      "cell_type": "markdown",
      "metadata": {
        "id": "view-in-github",
        "colab_type": "text"
      },
      "source": [
        "<a href=\"https://colab.research.google.com/github/B132020005/B132020005/blob/main/EX01_01_%E5%8A%A0%E6%B3%95%E5%99%A8.ipynb\" target=\"_parent\"><img src=\"https://colab.research.google.com/assets/colab-badge.svg\" alt=\"Open In Colab\"/></a>"
      ]
    },
    {
      "cell_type": "code",
      "execution_count": null,
      "metadata": {
        "id": "5hIjrgO_3G3h"
      },
      "outputs": [],
      "source": []
    },
    {
      "cell_type": "code",
      "source": [
        "#取得整數一\n",
        "n1 = int(input())\n",
        "#取得整數二\n",
        "n2 = int(input())\n",
        "#將整數一和整數二相加\n",
        "tt = n1+n2\n",
        "#得出結果\n",
        "print(tt)"
      ],
      "metadata": {
        "colab": {
          "base_uri": "https://localhost:8080/"
        },
        "id": "_Gtmtp6UEH6V",
        "outputId": "9d61288c-a26f-42e3-bc7e-715e7186960f"
      },
      "execution_count": 1,
      "outputs": [
        {
          "output_type": "stream",
          "name": "stdout",
          "text": [
            "13\n",
            "12\n",
            "25\n"
          ]
        }
      ]
    }
  ]
}