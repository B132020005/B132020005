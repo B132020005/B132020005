{
  "nbformat": 4,
  "nbformat_minor": 0,
  "metadata": {
    "colab": {
      "provenance": [],
      "authorship_tag": "ABX9TyNUDZxFAid6HzfL1dpTuP9G",
      "include_colab_link": true
    },
    "kernelspec": {
      "name": "python3",
      "display_name": "Python 3"
    },
    "language_info": {
      "name": "python"
    }
  },
  "cells": [
    {
      "cell_type": "markdown",
      "metadata": {
        "id": "view-in-github",
        "colab_type": "text"
      },
      "source": [
        "<a href=\"https://colab.research.google.com/github/B132020005/B132020005/blob/main/EX01_04_%E7%B5%82%E6%A5%B5%E5%AF%86%E7%A2%BC.ipynb\" target=\"_parent\"><img src=\"https://colab.research.google.com/assets/colab-badge.svg\" alt=\"Open In Colab\"/></a>"
      ]
    },
    {
      "cell_type": "code",
      "source": [
        "import random\n",
        "bomb = random.randint(1,99)\n",
        "lt = 0\n",
        "rt = 100\n",
        "\n",
        "while True:\n",
        "  print(lt,'-',rt)\n",
        "  gu = int(input('guess:'))\n",
        "  if gu <=lt or gu >= rt:\n",
        "    print('超出範圍')\n",
        "  elif gu > bomb:\n",
        "    rt = gu\n",
        "  elif gu < bomb:\n",
        "    lt = gu\n",
        "  else:\n",
        "    print('猜中')\n",
        "    break"
      ],
      "metadata": {
        "colab": {
          "base_uri": "https://localhost:8080/"
        },
        "id": "RNGyH_Pb8qEf",
        "outputId": "6f790f6f-5bbd-406e-83c6-a3596434a685"
      },
      "execution_count": 14,
      "outputs": [
        {
          "output_type": "stream",
          "name": "stdout",
          "text": [
            "0 - 100\n",
            "guess:50\n",
            "0 - 50\n",
            "guess:25\n",
            "0 - 25\n",
            "guess:12\n",
            "12 - 25\n",
            "guess:19\n",
            "19 - 25\n",
            "guess:23\n",
            "19 - 23\n",
            "guess:25\n",
            "超出範圍\n",
            "19 - 23\n",
            "guess:21\n",
            "21 - 23\n",
            "guess:22\n",
            "猜中\n"
          ]
        }
      ]
    }
  ]
}