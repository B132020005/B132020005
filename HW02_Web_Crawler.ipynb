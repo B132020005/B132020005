{
  "nbformat": 4,
  "nbformat_minor": 0,
  "metadata": {
    "colab": {
      "provenance": [],
      "authorship_tag": "ABX9TyPS+7720peIgG7HQvsLNuMs",
      "include_colab_link": true
    },
    "kernelspec": {
      "name": "python3",
      "display_name": "Python 3"
    },
    "language_info": {
      "name": "python"
    }
  },
  "cells": [
    {
      "cell_type": "markdown",
      "metadata": {
        "id": "view-in-github",
        "colab_type": "text"
      },
      "source": [
        "<a href=\"https://colab.research.google.com/github/B132020005/B132020005/blob/main/HW02_Web_Crawler.ipynb\" target=\"_parent\"><img src=\"https://colab.research.google.com/assets/colab-badge.svg\" alt=\"Open In Colab\"/></a>"
      ]
    },
    {
      "cell_type": "code",
      "source": [
        "!pip install requests pandas"
      ],
      "metadata": {
        "colab": {
          "base_uri": "https://localhost:8080/"
        },
        "collapsed": true,
        "id": "u3ZcfB75xujR",
        "outputId": "2cf017ef-3c8d-4195-fb0d-6c5ebdeb4259"
      },
      "execution_count": null,
      "outputs": [
        {
          "output_type": "stream",
          "name": "stdout",
          "text": [
            "Requirement already satisfied: requests in /usr/local/lib/python3.11/dist-packages (2.32.3)\n",
            "Requirement already satisfied: pandas in /usr/local/lib/python3.11/dist-packages (2.2.2)\n",
            "Requirement already satisfied: charset-normalizer<4,>=2 in /usr/local/lib/python3.11/dist-packages (from requests) (3.4.2)\n",
            "Requirement already satisfied: idna<4,>=2.5 in /usr/local/lib/python3.11/dist-packages (from requests) (3.10)\n",
            "Requirement already satisfied: urllib3<3,>=1.21.1 in /usr/local/lib/python3.11/dist-packages (from requests) (2.4.0)\n",
            "Requirement already satisfied: certifi>=2017.4.17 in /usr/local/lib/python3.11/dist-packages (from requests) (2025.4.26)\n",
            "Requirement already satisfied: numpy>=1.23.2 in /usr/local/lib/python3.11/dist-packages (from pandas) (2.0.2)\n",
            "Requirement already satisfied: python-dateutil>=2.8.2 in /usr/local/lib/python3.11/dist-packages (from pandas) (2.9.0.post0)\n",
            "Requirement already satisfied: pytz>=2020.1 in /usr/local/lib/python3.11/dist-packages (from pandas) (2025.2)\n",
            "Requirement already satisfied: tzdata>=2022.7 in /usr/local/lib/python3.11/dist-packages (from pandas) (2025.2)\n",
            "Requirement already satisfied: six>=1.5 in /usr/local/lib/python3.11/dist-packages (from python-dateutil>=2.8.2->pandas) (1.17.0)\n"
          ]
        }
      ]
    },
    {
      "cell_type": "code",
      "source": [
        "import json\n",
        "print(json.dumps(hotels['data'][0], indent=2, ensure_ascii=False))"
      ],
      "metadata": {
        "colab": {
          "base_uri": "https://localhost:8080/"
        },
        "collapsed": true,
        "id": "jX8TU3orLWYA",
        "outputId": "99a81b2d-44da-48ba-886e-5c8fe13f2420"
      },
      "execution_count": null,
      "outputs": [
        {
          "output_type": "stream",
          "name": "stdout",
          "text": [
            "{\n",
            "  \"prod_mid\": 192442,\n",
            "  \"prod_oid\": 192442,\n",
            "  \"name\": \"東京押上京成里士滿飯店\",\n",
            "  \"introduction\": \"東京押上京成里士滿飯店,距離押上站步行可達,提供舒適住宿。即刻預訂,享受東京的都市生活!\",\n",
            "  \"rating_count\": 1,\n",
            "  \"rating_star\": 5,\n",
            "  \"show_order_count\": \"\",\n",
            "  \"earliest_sale_date\": \"20250526\",\n",
            "  \"sale_status\": 1,\n",
            "  \"purchase_type\": null,\n",
            "  \"purchase_date\": null,\n",
            "  \"is_tourism_product\": true,\n",
            "  \"readable_url\": null,\n",
            "  \"product_category\": {\n",
            "    \"main\": \"CATEGORY_078\",\n",
            "    \"sub\": []\n",
            "  },\n",
            "  \"display_tags\": [\n",
            "    \"8天前可免費取消\",\n",
            "    \"立即確認\"\n",
            "  ],\n",
            "  \"img_url_list\": [\n",
            "    \"https://image.kkday.com/image/get/w_600%2Cc_fit/s1.kkday.com/product_192442/20241012060315_EdJAk/png\",\n",
            "    \"https://image.kkday.com/image/get/w_600%2Cc_fit/s1.kkday.com/product_192442/20241012060315_A7TZQ/png\",\n",
            "    \"https://image.kkday.com/image/get/w_600%2Cc_fit/s1.kkday.com/product_192442/20241012060315_4Qzq3/png\",\n",
            "    \"https://image.kkday.com/image/get/w_600%2Cc_fit/s1.kkday.com/product_192442/20241012060315_toXWS/png\",\n",
            "    \"https://image.kkday.com/image/get/w_600%2Cc_fit/s1.kkday.com/product_192442/20241012060315_gKzXE/png\"\n",
            "  ],\n",
            "  \"currency\": \"TWD\",\n",
            "  \"official_price\": 2809,\n",
            "  \"max_price\": 696360,\n",
            "  \"min_price\": 2809,\n",
            "  \"discount\": 0,\n",
            "  \"is_display_price\": false,\n",
            "  \"destinations\": [\n",
            "    {\n",
            "      \"code\": \"D-JP-3261\",\n",
            "      \"name\": \"東京\"\n",
            "    },\n",
            "    {\n",
            "      \"code\": \"D-JP-3218\",\n",
            "      \"name\": \"關東\"\n",
            "    },\n",
            "    {\n",
            "      \"code\": \"D-JP-112\",\n",
            "      \"name\": \"日本\"\n",
            "    }\n",
            "  ],\n",
            "  \"is_marketplace\": false,\n",
            "  \"supplier_oid_list\": [\n",
            "    21011\n",
            "  ],\n",
            "  \"supplier_name\": null,\n",
            "  \"supplier_logo\": null,\n",
            "  \"supplier_badge\": 0,\n",
            "  \"is_zero_price\": false,\n",
            "  \"is_kkday_best_route\": false,\n",
            "  \"prod_discount_type\": null,\n",
            "  \"instant_booking\": true\n",
            "}\n"
          ]
        }
      ]
    },
    {
      "cell_type": "code",
      "source": [
        "import requests\n",
        "import pandas as pd\n",
        "from IPython.display import Image, display\n",
        "\n",
        "# Step 1: 發送 API 請求\n",
        "url = 'https://www.kkday.com/zh-tw/category/ajax_get_top_products?productCategory=CATEGORY_078&destination=D-JP-3261'\n",
        "headers = {\n",
        "    'User-Agent': 'Mozilla/5.0 (Windows NT 10.0; Win64; x64) AppleWebKit/537.36 (KHTML, like Gecko) Chrome/134.0.0.0 Safari/537.36'\n",
        "}\n",
        "response = requests.get(url, headers=headers)\n",
        "hotels = response.json()\n",
        "\n",
        "# Step 2: 擷取資料\n",
        "hotel_list = []\n",
        "for hotel in hotels['data']:\n",
        "    hotel_list.append({\n",
        "        '名稱': hotel.get('name'),\n",
        "        '星等': hotel.get('rating_star', '無'),\n",
        "        '價格': f\"{hotel.get('currency', 'TWD')} {hotel.get('min_price', '無')}\",\n",
        "        '簡介': hotel.get('introduction', ''),\n",
        "        '圖片連結': hotel.get('img_url_list', [''])[0],  # 取第一張圖片\n",
        "        '連結': f\"https://www.kkday.com/zh-tw/product/{hotel.get('prod_oid')}\"\n",
        "    })\n",
        "\n",
        "# Step 3: 輸出 CSV\n",
        "df = pd.DataFrame(hotel_list)\n",
        "df.to_csv(\"kkday_tokyo_hotels.csv\", index=False, encoding='utf-8-sig')\n",
        "\n",
        "# Step 4: 顯示前 10 筆（含圖片）\n",
        "for i, row in df.head(10).iterrows():\n",
        "    print(f\"🏨 名稱：{row['名稱']}\")\n",
        "    print(f\"⭐️ 星等：{row['星等']}\")\n",
        "    print(f\"💰 價格：{row['價格']}\")\n",
        "    print(f\"📝 簡介：{row['簡介']}\")\n",
        "    print(f\"🔗 連結：{row['連結']}\")\n",
        "    display(Image(url=row['圖片連結'], width=300))\n",
        "    print(\"-\" * 60)\n",
        "\n"
      ],
      "metadata": {
        "colab": {
          "base_uri": "https://localhost:8080/",
          "height": 1000
        },
        "id": "eMwE4_xDxvFS",
        "outputId": "5b24c278-f994-439b-fa26-1a0af9c699b9"
      },
      "execution_count": null,
      "outputs": [
        {
          "output_type": "stream",
          "name": "stdout",
          "text": [
            "🏨 名稱：東京押上京成里士滿飯店\n",
            "⭐️ 星等：5.0\n",
            "💰 價格：TWD 2809\n",
            "📝 簡介：東京押上京成里士滿飯店,距離押上站步行可達,提供舒適住宿。即刻預訂,享受東京的都市生活!\n",
            "🔗 連結：https://www.kkday.com/zh-tw/product/192442\n"
          ]
        },
        {
          "output_type": "display_data",
          "data": {
            "text/html": [
              "<img src=\"https://image.kkday.com/image/get/w_600%2Cc_fit/s1.kkday.com/product_192442/20241012060315_EdJAk/png\" width=\"300\"/>"
            ],
            "text/plain": [
              "<IPython.core.display.Image object>"
            ]
          },
          "metadata": {}
        },
        {
          "output_type": "stream",
          "name": "stdout",
          "text": [
            "------------------------------------------------------------\n",
            "🏨 名稱：APA 飯店 - 秋葉原駅前\n",
            "⭐️ 星等：0.0\n",
            "💰 價格：TWD 1880\n",
            "📝 簡介：2012 年 10 月 4 日新完工開幕♪步行至 JR  秋葉原車站昭和街道口 2 分鐘!! 從山手線 秋葉原站 步行 (2分鐘)\n",
            "🔗 連結：https://www.kkday.com/zh-tw/product/186655\n"
          ]
        },
        {
          "output_type": "display_data",
          "data": {
            "text/html": [
              "<img src=\"https://image.kkday.com/image/get/w_600%2Cc_fit/s1.kkday.com/product_186655/20241002061058_YzMIN/png\" width=\"300\"/>"
            ],
            "text/plain": [
              "<IPython.core.display.Image object>"
            ]
          },
          "metadata": {}
        },
        {
          "output_type": "stream",
          "name": "stdout",
          "text": [
            "------------------------------------------------------------\n",
            "🏨 名稱：相鐵FRESA INN 東京錦糸町\n",
            "⭐️ 星等：0.0\n",
            "💰 價格：TWD 1963\n",
            "📝 簡介：相鐵FRESA INN 東京錦糸町,交通便利,靠近東京站。即刻預訂,體驗東京的繁華生活!\n",
            "🔗 連結：https://www.kkday.com/zh-tw/product/194684\n"
          ]
        },
        {
          "output_type": "display_data",
          "data": {
            "text/html": [
              "<img src=\"https://image.kkday.com/image/get/w_600%2Cc_fit/s1.kkday.com/product_194684/20241009053024_xbVfK/png\" width=\"300\"/>"
            ],
            "text/plain": [
              "<IPython.core.display.Image object>"
            ]
          },
          "metadata": {}
        },
        {
          "output_type": "stream",
          "name": "stdout",
          "text": [
            "------------------------------------------------------------\n",
            "🏨 名稱：APA 飯店 - 東日本橋站前\n",
            "⭐️ 星等：5.0\n",
            "💰 價格：TWD 1421\n",
            "📝 簡介：東日本橋站前 APA 飯店提供現代舒適的住宿,輕鬆探索東京,立即預訂,享受便利生活!\n",
            "🔗 連結：https://www.kkday.com/zh-tw/product/191173\n"
          ]
        },
        {
          "output_type": "display_data",
          "data": {
            "text/html": [
              "<img src=\"https://image.kkday.com/image/get/w_600%2Cc_fit/s1.kkday.com/product_191173/20241118091657_aBuYr/png\" width=\"300\"/>"
            ],
            "text/plain": [
              "<IPython.core.display.Image object>"
            ]
          },
          "metadata": {}
        },
        {
          "output_type": "stream",
          "name": "stdout",
          "text": [
            "------------------------------------------------------------\n",
            "🏨 名稱：日暮里阿爾蒙特飯店\n",
            "⭐️ 星等：0.0\n",
            "💰 價格：TWD 2911\n",
            "📝 簡介：享受日暮里阿爾蒙特飯店的舒適住宿,便捷至東京主要景點,立即預訂,開啟您的東京之旅!\n",
            "🔗 連結：https://www.kkday.com/zh-tw/product/193898\n"
          ]
        },
        {
          "output_type": "display_data",
          "data": {
            "text/html": [
              "<img src=\"https://image.kkday.com/image/get/w_600%2Cc_fit/s1.kkday.com/product_193898/20241029064831_EWA64/png\" width=\"300\"/>"
            ],
            "text/plain": [
              "<IPython.core.display.Image object>"
            ]
          },
          "metadata": {}
        },
        {
          "output_type": "stream",
          "name": "stdout",
          "text": [
            "------------------------------------------------------------\n",
            "🏨 名稱：日本東京|東京巨蛋飯店住宿\n",
            "⭐️ 星等：4.79\n",
            "💰 價格：TWD 1843\n",
            "📝 簡介：要預約東京巨蛋飯店住宿套餐就上 KKday!為您提供集結東京巨蛋、遊樂園於一身,東京巨蛋城內高 43 層的高級飯店超值住宿套餐!舒適的空間、時髦又溫馨的裝潢,讓您體驗站在高處遠眺東京都內首屈一指的美景。邀請您來到東京巨蛋飯店內,享受片刻的輕鬆時光。\n",
            "🔗 連結：https://www.kkday.com/zh-tw/product/115055\n"
          ]
        },
        {
          "output_type": "display_data",
          "data": {
            "text/html": [
              "<img src=\"https://image.kkday.com/image/get/w_600%2Cc_fit/s1.kkday.com/product_115055/20211214051412_ze1jD/jpg\" width=\"300\"/>"
            ],
            "text/plain": [
              "<IPython.core.display.Image object>"
            ]
          },
          "metadata": {}
        },
        {
          "output_type": "stream",
          "name": "stdout",
          "text": [
            "------------------------------------------------------------\n",
            "🏨 名稱：上野公園光芒飯店\n",
            "⭐️ 星等：0.0\n",
            "💰 價格：TWD 2948\n",
            "📝 簡介：車站附近★VOD任看★席夢思床墊,高檔次的酒店 從山手線 鶯谷站 搭乘步行到山手線 鶯谷站 (3分鐘), 從山手線 鶯谷站到山手線 鶯谷站 搭乘電車 (2分鐘), 從山手線 鶯谷站 搭乘步行 (3分鐘)\n",
            "🔗 連結：https://www.kkday.com/zh-tw/product/194935\n"
          ]
        },
        {
          "output_type": "display_data",
          "data": {
            "text/html": [
              "<img src=\"https://image.kkday.com/image/get/w_600%2Cc_fit/s1.kkday.com/product_194935/20241118111351_4KrRP/png\" width=\"300\"/>"
            ],
            "text/plain": [
              "<IPython.core.display.Image object>"
            ]
          },
          "metadata": {}
        },
        {
          "output_type": "stream",
          "name": "stdout",
          "text": [
            "------------------------------------------------------------\n",
            "🏨 名稱：Hotel Resol 秋葉原\n",
            "⭐️ 星等：0.0\n",
            "💰 價格：TWD 2789\n",
            "📝 簡介：入住Resol旗下飯店,於秋葉原過夜 從機場線 羽田機場國際航線航站樓站 搭乘電車到山手線 濱松町站 (5分鐘), 從山手線 濱松町站到山手線 秋葉原站 搭乘普通電車 (10分鐘), 從山手線 秋葉原站 步行 (3分鐘)\n",
            "🔗 連結：https://www.kkday.com/zh-tw/product/191388\n"
          ]
        },
        {
          "output_type": "display_data",
          "data": {
            "text/html": [
              "<img src=\"https://image.kkday.com/image/get/w_600%2Cc_fit/s1.kkday.com/product_191388/20241118092759_6Pbxj/png\" width=\"300\"/>"
            ],
            "text/plain": [
              "<IPython.core.display.Image object>"
            ]
          },
          "metadata": {}
        },
        {
          "output_type": "stream",
          "name": "stdout",
          "text": [
            "------------------------------------------------------------\n",
            "🏨 名稱：上野雷索爾飯店\n",
            "⭐️ 星等：5.0\n",
            "💰 價格：TWD 3859\n",
            "📝 簡介：上野雷索爾飯店,地理位置優越,步行即可達上野動物園,立即預訂,探索東京的多樣魅力!\n",
            "🔗 連結：https://www.kkday.com/zh-tw/product/186425\n"
          ]
        },
        {
          "output_type": "display_data",
          "data": {
            "text/html": [
              "<img src=\"https://image.kkday.com/image/get/w_600%2Cc_fit/s1.kkday.com/product_186425/20241001101639_Cfnpd/png\" width=\"300\"/>"
            ],
            "text/plain": [
              "<IPython.core.display.Image object>"
            ]
          },
          "metadata": {}
        },
        {
          "output_type": "stream",
          "name": "stdout",
          "text": [
            "------------------------------------------------------------\n",
            "🏨 名稱：東京淺草雷索爾奢華飯店\n",
            "⭐️ 星等：5.0\n",
            "💰 價格：TWD 1184\n",
            "📝 簡介：東京淺草雷索爾奢華飯店,位於淺草,提供高級住宿與便利交通。馬上預訂,享受淺草的魅力!\n",
            "🔗 連結：https://www.kkday.com/zh-tw/product/193174\n"
          ]
        },
        {
          "output_type": "display_data",
          "data": {
            "text/html": [
              "<img src=\"https://image.kkday.com/image/get/w_600%2Cc_fit/s1.kkday.com/product_193174/20241007105818_J1Dz1/png\" width=\"300\"/>"
            ],
            "text/plain": [
              "<IPython.core.display.Image object>"
            ]
          },
          "metadata": {}
        },
        {
          "output_type": "stream",
          "name": "stdout",
          "text": [
            "------------------------------------------------------------\n"
          ]
        }
      ]
    }
  ]
}