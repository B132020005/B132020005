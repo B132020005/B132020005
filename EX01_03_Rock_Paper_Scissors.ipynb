{
  "nbformat": 4,
  "nbformat_minor": 0,
  "metadata": {
    "colab": {
      "provenance": [],
      "authorship_tag": "ABX9TyMco/F1DRN4LKptBUZyDyi6",
      "include_colab_link": true
    },
    "kernelspec": {
      "name": "python3",
      "display_name": "Python 3"
    },
    "language_info": {
      "name": "python"
    }
  },
  "cells": [
    {
      "cell_type": "markdown",
      "metadata": {
        "id": "view-in-github",
        "colab_type": "text"
      },
      "source": [
        "<a href=\"https://colab.research.google.com/github/B132020005/B132020005/blob/main/EX01_03_Rock_Paper_Scissors.ipynb\" target=\"_parent\"><img src=\"https://colab.research.google.com/assets/colab-badge.svg\" alt=\"Open In Colab\"/></a>"
      ]
    },
    {
      "cell_type": "code",
      "execution_count": null,
      "metadata": {
        "id": "40QQ772tRnno"
      },
      "outputs": [],
      "source": []
    },
    {
      "cell_type": "code",
      "source": [
        "import random\n",
        "ply = int(input())\n",
        "cmp = random.choice([0,2,5])\n",
        "print('computer:',cmp)\n",
        "if ply == cmp:\n",
        "    print('draw')\n",
        "elif (ply == 0 and cmp == 2) or (ply == 2 and cmp == 5) or (ply == 5 and cmp == 0):\n",
        "    print('you win')\n",
        "else:\n",
        "    print('you lose')\n"
      ],
      "metadata": {
        "colab": {
          "base_uri": "https://localhost:8080/"
        },
        "id": "Ce6kBmyxRr6M",
        "outputId": "6744c646-6ed9-4a23-a5e5-55d8a5eaa6e9"
      },
      "execution_count": 5,
      "outputs": [
        {
          "output_type": "stream",
          "name": "stdout",
          "text": [
            "5\n",
            "computer: 0\n",
            "you win\n"
          ]
        }
      ]
    }
  ]
}