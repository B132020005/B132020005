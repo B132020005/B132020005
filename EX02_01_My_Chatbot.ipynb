{
  "nbformat": 4,
  "nbformat_minor": 0,
  "metadata": {
    "colab": {
      "provenance": [],
      "authorship_tag": "ABX9TyOlNn35OmphtQbCo5L0jzrd",
      "include_colab_link": true
    },
    "kernelspec": {
      "name": "python3",
      "display_name": "Python 3"
    },
    "language_info": {
      "name": "python"
    }
  },
  "cells": [
    {
      "cell_type": "markdown",
      "metadata": {
        "id": "view-in-github",
        "colab_type": "text"
      },
      "source": [
        "<a href=\"https://colab.research.google.com/github/B132020005/B132020005/blob/main/EX02_01_My_Chatbot.ipynb\" target=\"_parent\"><img src=\"https://colab.research.google.com/assets/colab-badge.svg\" alt=\"Open In Colab\"/></a>"
      ]
    },
    {
      "cell_type": "code",
      "execution_count": 1,
      "metadata": {
        "id": "LyMdv2Ka9Y-Q"
      },
      "outputs": [],
      "source": [
        "from google.colab import userdata\n",
        "import google.generativeai as genai\n",
        "\n",
        "genai.configure(api_key=userdata.get('GOOGLE_API_KEY'))"
      ]
    },
    {
      "cell_type": "code",
      "source": [
        "generation_config = {\n",
        "    \"temperature\": 1,\n",
        "    \"max_output_tokens\":1280\n",
        "}\n",
        "model = genai.GenerativeModel(\n",
        "    model_name=\"gemini-2.0-flash\",\n",
        "    generation_config=generation_config\n",
        ")"
      ],
      "metadata": {
        "id": "6tY5zaJp-hXo"
      },
      "execution_count": 2,
      "outputs": []
    },
    {
      "cell_type": "code",
      "source": [
        "from IPython.display import Markdown, display\n",
        "\n",
        "chat = model.start_chat(history=[])\n",
        "\n",
        "while True:\n",
        "  message = input('You:')\n",
        "  if message == 'bye!':\n",
        "    break\n",
        "  response = chat.send_message(message)\n",
        "  print('Bot:')\n",
        "  display(Markdown(response.text))"
      ],
      "metadata": {
        "colab": {
          "base_uri": "https://localhost:8080/",
          "height": 180
        },
        "id": "0FqxkKjQ_G78",
        "outputId": "303dbea7-0f60-47c6-ff17-ee72fd76db00"
      },
      "execution_count": 3,
      "outputs": [
        {
          "output_type": "stream",
          "name": "stdout",
          "text": [
            "You:Hi\n",
            "Bot:\n"
          ]
        },
        {
          "output_type": "display_data",
          "data": {
            "text/plain": [
              "<IPython.core.display.Markdown object>"
            ],
            "text/markdown": "Hi there! How can I help you today?\n"
          },
          "metadata": {}
        },
        {
          "output_type": "stream",
          "name": "stdout",
          "text": [
            "You:Nothing. I'm just want to check whether this program can work.\n",
            "Bot:\n"
          ]
        },
        {
          "output_type": "display_data",
          "data": {
            "text/plain": [
              "<IPython.core.display.Markdown object>"
            ],
            "text/markdown": "Okay! It seems like it is working then. Let me know if you have any questions or tasks for me in the future. I'm here to assist you. Have a great day!\n"
          },
          "metadata": {}
        },
        {
          "name": "stdout",
          "output_type": "stream",
          "text": [
            "You:bye!\n"
          ]
        }
      ]
    }
  ]
}